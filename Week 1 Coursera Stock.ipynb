{
 "cells": [
  {
   "cell_type": "code",
   "execution_count": 1,
   "metadata": {},
   "outputs": [],
   "source": [
    "#import the package \"Pandas\" into Jupyter Notebook\n",
    "import pandas as pd"
   ]
  },
  {
   "cell_type": "code",
   "execution_count": 2,
   "metadata": {},
   "outputs": [],
   "source": [
    "#We import the stock data of Facebook into Jupyter Notebook. The CSV file is located in the folder called \"Data\" in your Workspace\n",
    "#We then name the DataFrame name as 'fb'\n",
    "fb = pd.read_csv('facebook.csv',index_col = 0)"
   ]
  },
  {
   "cell_type": "code",
   "execution_count": 3,
   "metadata": {},
   "outputs": [],
   "source": [
    "ms = pd.read_csv('microsoft.csv',parse_dates=False,index_col = 0 )"
   ]
  },
  {
   "cell_type": "code",
   "execution_count": 4,
   "metadata": {},
   "outputs": [
    {
     "name": "stdout",
     "output_type": "stream",
     "text": [
      "46.73\n"
     ]
    }
   ],
   "source": [
    "# run this cell to ensure Microsoft's stock data is imported\n",
    "print(ms.iloc[0, 0])"
   ]
  },
  {
   "cell_type": "code",
   "execution_count": 5,
   "metadata": {},
   "outputs": [
    {
     "data": {
      "text/html": [
       "<div>\n",
       "<style scoped>\n",
       "    .dataframe tbody tr th:only-of-type {\n",
       "        vertical-align: middle;\n",
       "    }\n",
       "\n",
       "    .dataframe tbody tr th {\n",
       "        vertical-align: top;\n",
       "    }\n",
       "\n",
       "    .dataframe thead th {\n",
       "        text-align: right;\n",
       "    }\n",
       "</style>\n",
       "<table border=\"1\" class=\"dataframe\">\n",
       "  <thead>\n",
       "    <tr style=\"text-align: right;\">\n",
       "      <th></th>\n",
       "      <th>Open</th>\n",
       "      <th>High</th>\n",
       "      <th>Low</th>\n",
       "      <th>Close</th>\n",
       "      <th>Adj Close</th>\n",
       "      <th>Volume</th>\n",
       "    </tr>\n",
       "    <tr>\n",
       "      <th>Date</th>\n",
       "      <th></th>\n",
       "      <th></th>\n",
       "      <th></th>\n",
       "      <th></th>\n",
       "      <th></th>\n",
       "      <th></th>\n",
       "    </tr>\n",
       "  </thead>\n",
       "  <tbody>\n",
       "    <tr>\n",
       "      <th>2014-12-31</th>\n",
       "      <td>46.730000</td>\n",
       "      <td>47.439999</td>\n",
       "      <td>46.450001</td>\n",
       "      <td>46.450001</td>\n",
       "      <td>42.848763</td>\n",
       "      <td>21552500</td>\n",
       "    </tr>\n",
       "    <tr>\n",
       "      <th>2015-01-02</th>\n",
       "      <td>46.660000</td>\n",
       "      <td>47.419998</td>\n",
       "      <td>46.540001</td>\n",
       "      <td>46.759998</td>\n",
       "      <td>43.134731</td>\n",
       "      <td>27913900</td>\n",
       "    </tr>\n",
       "    <tr>\n",
       "      <th>2015-01-05</th>\n",
       "      <td>46.369999</td>\n",
       "      <td>46.730000</td>\n",
       "      <td>46.250000</td>\n",
       "      <td>46.330002</td>\n",
       "      <td>42.738068</td>\n",
       "      <td>39673900</td>\n",
       "    </tr>\n",
       "    <tr>\n",
       "      <th>2015-01-06</th>\n",
       "      <td>46.380001</td>\n",
       "      <td>46.750000</td>\n",
       "      <td>45.540001</td>\n",
       "      <td>45.650002</td>\n",
       "      <td>42.110783</td>\n",
       "      <td>36447900</td>\n",
       "    </tr>\n",
       "    <tr>\n",
       "      <th>2015-01-07</th>\n",
       "      <td>45.980000</td>\n",
       "      <td>46.459999</td>\n",
       "      <td>45.490002</td>\n",
       "      <td>46.230000</td>\n",
       "      <td>42.645817</td>\n",
       "      <td>29114100</td>\n",
       "    </tr>\n",
       "  </tbody>\n",
       "</table>\n",
       "</div>"
      ],
      "text/plain": [
       "                 Open       High        Low      Close  Adj Close    Volume\n",
       "Date                                                                       \n",
       "2014-12-31  46.730000  47.439999  46.450001  46.450001  42.848763  21552500\n",
       "2015-01-02  46.660000  47.419998  46.540001  46.759998  43.134731  27913900\n",
       "2015-01-05  46.369999  46.730000  46.250000  46.330002  42.738068  39673900\n",
       "2015-01-06  46.380001  46.750000  45.540001  45.650002  42.110783  36447900\n",
       "2015-01-07  45.980000  46.459999  45.490002  46.230000  42.645817  29114100"
      ]
     },
     "execution_count": 5,
     "metadata": {},
     "output_type": "execute_result"
    }
   ],
   "source": [
    "ms.head()"
   ]
  },
  {
   "cell_type": "code",
   "execution_count": 6,
   "metadata": {},
   "outputs": [
    {
     "data": {
      "text/html": [
       "<div>\n",
       "<style scoped>\n",
       "    .dataframe tbody tr th:only-of-type {\n",
       "        vertical-align: middle;\n",
       "    }\n",
       "\n",
       "    .dataframe tbody tr th {\n",
       "        vertical-align: top;\n",
       "    }\n",
       "\n",
       "    .dataframe thead th {\n",
       "        text-align: right;\n",
       "    }\n",
       "</style>\n",
       "<table border=\"1\" class=\"dataframe\">\n",
       "  <thead>\n",
       "    <tr style=\"text-align: right;\">\n",
       "      <th></th>\n",
       "      <th>Open</th>\n",
       "      <th>High</th>\n",
       "      <th>Low</th>\n",
       "      <th>Close</th>\n",
       "      <th>Adj Close</th>\n",
       "      <th>Volume</th>\n",
       "    </tr>\n",
       "    <tr>\n",
       "      <th>Date</th>\n",
       "      <th></th>\n",
       "      <th></th>\n",
       "      <th></th>\n",
       "      <th></th>\n",
       "      <th></th>\n",
       "      <th></th>\n",
       "    </tr>\n",
       "  </thead>\n",
       "  <tbody>\n",
       "    <tr>\n",
       "      <th>2014-12-31</th>\n",
       "      <td>20.400000</td>\n",
       "      <td>20.510000</td>\n",
       "      <td>19.990000</td>\n",
       "      <td>20.049999</td>\n",
       "      <td>19.459270</td>\n",
       "      <td>4157500</td>\n",
       "    </tr>\n",
       "    <tr>\n",
       "      <th>2015-01-02</th>\n",
       "      <td>20.129999</td>\n",
       "      <td>20.280001</td>\n",
       "      <td>19.809999</td>\n",
       "      <td>20.129999</td>\n",
       "      <td>19.536913</td>\n",
       "      <td>2842000</td>\n",
       "    </tr>\n",
       "    <tr>\n",
       "      <th>2015-01-05</th>\n",
       "      <td>20.129999</td>\n",
       "      <td>20.190001</td>\n",
       "      <td>19.700001</td>\n",
       "      <td>19.790001</td>\n",
       "      <td>19.206934</td>\n",
       "      <td>4948800</td>\n",
       "    </tr>\n",
       "    <tr>\n",
       "      <th>2015-01-06</th>\n",
       "      <td>19.820000</td>\n",
       "      <td>19.840000</td>\n",
       "      <td>19.170000</td>\n",
       "      <td>19.190001</td>\n",
       "      <td>18.624611</td>\n",
       "      <td>4944100</td>\n",
       "    </tr>\n",
       "    <tr>\n",
       "      <th>2015-01-07</th>\n",
       "      <td>19.330000</td>\n",
       "      <td>19.500000</td>\n",
       "      <td>19.080000</td>\n",
       "      <td>19.139999</td>\n",
       "      <td>18.576082</td>\n",
       "      <td>8045200</td>\n",
       "    </tr>\n",
       "  </tbody>\n",
       "</table>\n",
       "</div>"
      ],
      "text/plain": [
       "                 Open       High        Low      Close  Adj Close   Volume\n",
       "Date                                                                      \n",
       "2014-12-31  20.400000  20.510000  19.990000  20.049999  19.459270  4157500\n",
       "2015-01-02  20.129999  20.280001  19.809999  20.129999  19.536913  2842000\n",
       "2015-01-05  20.129999  20.190001  19.700001  19.790001  19.206934  4948800\n",
       "2015-01-06  19.820000  19.840000  19.170000  19.190001  18.624611  4944100\n",
       "2015-01-07  19.330000  19.500000  19.080000  19.139999  18.576082  8045200"
      ]
     },
     "execution_count": 6,
     "metadata": {},
     "output_type": "execute_result"
    }
   ],
   "source": [
    "fb.head()"
   ]
  },
  {
   "cell_type": "code",
   "execution_count": 7,
   "metadata": {},
   "outputs": [
    {
     "name": "stdout",
     "output_type": "stream",
     "text": [
      "(780, 6)\n"
     ]
    }
   ],
   "source": [
    "print(fb.shape)"
   ]
  },
  {
   "cell_type": "code",
   "execution_count": null,
   "metadata": {},
   "outputs": [],
   "source": []
  },
  {
   "cell_type": "code",
   "execution_count": 8,
   "metadata": {},
   "outputs": [
    {
     "name": "stdout",
     "output_type": "stream",
     "text": [
      "(780, 6)\n"
     ]
    }
   ],
   "source": [
    "print(ms.shape)"
   ]
  },
  {
   "cell_type": "code",
   "execution_count": 9,
   "metadata": {},
   "outputs": [
    {
     "name": "stdout",
     "output_type": "stream",
     "text": [
      "             Open        High         Low       Close   Adj Close  \\\n",
      "count  780.000000  780.000000  780.000000  780.000000  780.000000   \n",
      "mean    80.212705   81.285654   79.022397   80.264897   79.914215   \n",
      "std     64.226121   65.048907   63.190963   64.198375   64.327846   \n",
      "min     19.250000   19.500000   18.940001   19.139999   18.576082   \n",
      "25%     25.525000   26.085000   24.845000   25.475000   25.134513   \n",
      "50%     53.379999   54.034999   52.930000   53.420000   53.035403   \n",
      "75%    113.322502  115.779999  110.297499  113.702501  113.261238   \n",
      "max    245.770004  249.270004  244.449997  246.850006  246.850006   \n",
      "\n",
      "             Volume  \n",
      "count  7.800000e+02  \n",
      "mean   1.204453e+07  \n",
      "std    8.221848e+06  \n",
      "min    1.311200e+06  \n",
      "25%    7.215200e+06  \n",
      "50%    9.728700e+06  \n",
      "75%    1.408885e+07  \n",
      "max    9.232320e+07  \n"
     ]
    }
   ],
   "source": [
    "\n",
    "# print summary statistics of Facebook\n",
    "print(fb.describe())"
   ]
  },
  {
   "cell_type": "code",
   "execution_count": 10,
   "metadata": {},
   "outputs": [
    {
     "name": "stdout",
     "output_type": "stream",
     "text": [
      "             Open        High         Low       Close   Adj Close  \\\n",
      "count  780.000000  780.000000  780.000000  780.000000  780.000000   \n",
      "mean    58.912308   59.372308   58.465000   58.945397   56.931553   \n",
      "std     12.852040   12.868060   12.802831   12.830350   13.670080   \n",
      "min     40.340000   40.740002   39.720001   40.290001   37.267815   \n",
      "25%     47.894998   48.295000   47.535001   47.974998   44.792073   \n",
      "50%     56.150002   56.640001   55.700001   56.209999   53.775458   \n",
      "75%     67.892500   68.174997   67.447500   67.740000   66.565508   \n",
      "max     95.139999   96.070000   93.720001   95.010002   94.565781   \n",
      "\n",
      "             Volume  \n",
      "count  7.800000e+02  \n",
      "mean   2.978900e+07  \n",
      "std    1.522319e+07  \n",
      "min    7.425600e+06  \n",
      "25%    2.096685e+07  \n",
      "50%    2.623125e+07  \n",
      "75%    3.408020e+07  \n",
      "max    1.691640e+08  \n"
     ]
    }
   ],
   "source": [
    "# print summary statistics of Microsoft\n",
    "print(ms.describe())"
   ]
  },
  {
   "cell_type": "code",
   "execution_count": 11,
   "metadata": {},
   "outputs": [],
   "source": [
    "# select all the price information of Facebook in 2016.\n",
    "fb_2015=fb.loc['2015-01-01':'2015-12-31']"
   ]
  },
  {
   "cell_type": "code",
   "execution_count": 12,
   "metadata": {},
   "outputs": [
    {
     "name": "stdout",
     "output_type": "stream",
     "text": [
      "Open         2.288000e+01\n",
      "High         2.311000e+01\n",
      "Low          2.273000e+01\n",
      "Close        2.297000e+01\n",
      "Adj Close    2.237908e+01\n",
      "Volume       5.923900e+06\n",
      "Name: 2015-03-16, dtype: float64\n"
     ]
    }
   ],
   "source": [
    "# print the price of Facebook on '2015-03-16'\n",
    "print(fb_2015.loc['2015-03-16'])"
   ]
  },
  {
   "cell_type": "code",
   "execution_count": 13,
   "metadata": {},
   "outputs": [],
   "source": [
    "# select all the price information of Microsoft in 2016.\n",
    "ms_2016 = ms.loc['2016-01-01':'2016-12-31']"
   ]
  },
  {
   "cell_type": "code",
   "execution_count": 14,
   "metadata": {},
   "outputs": [
    {
     "name": "stdout",
     "output_type": "stream",
     "text": [
      "Open         5.345000e+01\n",
      "High         5.460000e+01\n",
      "Low          5.340000e+01\n",
      "Close        5.435000e+01\n",
      "Adj Close    5.187095e+01\n",
      "Volume       3.169170e+07\n",
      "Name: 2016-03-16, dtype: float64\n"
     ]
    }
   ],
   "source": [
    "# print the price of Microsoft on '2016-03-16'\n",
    "print(ms_2016.loc['2016-03-16'])"
   ]
  },
  {
   "cell_type": "code",
   "execution_count": 15,
   "metadata": {},
   "outputs": [
    {
     "name": "stdout",
     "output_type": "stream",
     "text": [
      "20.4\n"
     ]
    }
   ],
   "source": [
    "# print the opening price of the first row\n",
    "print(fb.iloc[0, 0])"
   ]
  },
  {
   "cell_type": "code",
   "execution_count": 16,
   "metadata": {},
   "outputs": [
    {
     "name": "stdout",
     "output_type": "stream",
     "text": [
      "90.559998\n"
     ]
    }
   ],
   "source": [
    "# print the opening price of the last row\n",
    "print(ms.iloc[-1, 0])"
   ]
  },
  {
   "cell_type": "code",
   "execution_count": 17,
   "metadata": {},
   "outputs": [
    {
     "data": {
      "text/plain": [
       "<matplotlib.axes._subplots.AxesSubplot at 0x7ff34663add0>"
      ]
     },
     "execution_count": 17,
     "metadata": {},
     "output_type": "execute_result"
    },
    {
     "data": {
      "image/png": "[encoded data removed]",
      "text/plain": [
       "<Figure size 720x576 with 1 Axes>"
      ]
     },
     "metadata": {
      "needs_background": "light"
     },
     "output_type": "display_data"
    }
   ],
   "source": [
    "import matplotlib.pyplot as plt\n",
    "%matplotlib inline\n",
    "plt.figure(figsize=(10, 8))\n",
    "# plot only the Close price of 2016 of Microsoft, 1 line \n",
    "ms.loc['2016-01-01':'2016-12-31','Close'].plot()"
   ]
  },
  {
   "cell_type": "code",
   "execution_count": 18,
   "metadata": {},
   "outputs": [],
   "source": [
    "# Create a new column in the DataFrame (1) - Price difference\n",
    "#Create a new column PriceDiff in the DataFrame fb\n",
    "fb['PriceDiff'] = fb['Close'].shift(-1) - fb['Close']"
   ]
  },
  {
   "cell_type": "code",
   "execution_count": 19,
   "metadata": {},
   "outputs": [],
   "source": [
    "#Your turn to create PriceDiff in the DataFrame ms\n",
    "ms['PriceDiff'] = ms['Close'].shift(-1) - ms['Close']"
   ]
  },
  {
   "cell_type": "code",
   "execution_count": 20,
   "metadata": {},
   "outputs": [
    {
     "name": "stdout",
     "output_type": "stream",
     "text": [
      "-0.6799999999999997\n"
     ]
    }
   ],
   "source": [
    "#Run this code to display the price difference of Microsoft on 2015-01-05\n",
    "print(ms['PriceDiff'].loc['2015-01-05'])"
   ]
  },
  {
   "cell_type": "code",
   "execution_count": 21,
   "metadata": {},
   "outputs": [],
   "source": [
    "# Create a new column in the DataFrame (2) - Daily return\n",
    "\n",
    "# Daily Return is calcuated as PriceDiff/Close\n",
    "#Create a new column Return in the DataFrame fb\n",
    "fb['Return'] = fb['PriceDiff'] /fb['Close']\n"
   ]
  },
  {
   "cell_type": "code",
   "execution_count": 22,
   "metadata": {},
   "outputs": [],
   "source": [
    "#Your turn to create a new column Return in the DataFrame MS\n",
    "ms['Return'] = ms['PriceDiff'] /ms['Close']"
   ]
  },
  {
   "cell_type": "code",
   "execution_count": 23,
   "metadata": {},
   "outputs": [
    {
     "name": "stdout",
     "output_type": "stream",
     "text": [
      "-0.014677314281143345\n"
     ]
    }
   ],
   "source": [
    "#Run this code to print the return on 2015-01-05\n",
    "print(ms['Return'].loc['2015-01-05'])"
   ]
  },
  {
   "cell_type": "markdown",
   "metadata": {},
   "source": [
    "### Create a new column in the DataFrame using List Comprehension - Direction"
   ]
  },
  {
   "cell_type": "code",
   "execution_count": 24,
   "metadata": {},
   "outputs": [],
   "source": [
    "#Create a new column Direction. \n",
    "#The List Comprehension means : if the price difference is larger than 0, denote as 1, otherwise, denote as 0,\n",
    "#for every record in the DataFrame - fb\n",
    "\n",
    "fb['Direction'] = [1 if fb['PriceDiff'].loc[ei] > 0 else 0 for ei in fb.index ]"
   ]
  },
  {
   "cell_type": "code",
   "execution_count": 25,
   "metadata": {},
   "outputs": [],
   "source": [
    "# Your turn to create a new column Direction for MS\n",
    "\n",
    "ms['Direction'] = [1 if ms['PriceDiff'].loc[ei] > 0 else 0 for ei in ms.index ]"
   ]
  },
  {
   "cell_type": "code",
   "execution_count": 26,
   "metadata": {},
   "outputs": [
    {
     "name": "stdout",
     "output_type": "stream",
     "text": [
      "Price difference on 2015-01-05 is -0.6799999999999997. direction is 0\n"
     ]
    }
   ],
   "source": [
    "# Run the following code to show the price difference on 2015-01-05\n",
    "print('Price difference on {} is {}. direction is {}'.format('2015-01-05', ms['PriceDiff'].loc['2015-01-05'], ms['Direction'].loc['2015-01-05']))"
   ]
  },
  {
   "cell_type": "code",
   "execution_count": 27,
   "metadata": {},
   "outputs": [],
   "source": [
    "### Create a new column in the DataFrame using Rolling Window calculation (.rolling()) - Moving average"
   ]
  },
  {
   "cell_type": "code",
   "execution_count": 28,
   "metadata": {},
   "outputs": [
    {
     "data": {
      "image/png": "[encoded data removed]",
      "text/plain": [
       "<Figure size 720x576 with 1 Axes>"
      ]
     },
     "metadata": {
      "needs_background": "light"
     },
     "output_type": "display_data"
    }
   ],
   "source": [
    "fb['ma50'] = fb['Close'].rolling(50).mean()\n",
    "\n",
    "#plot the moving average\n",
    "plt.figure(figsize=(10, 8))\n",
    "fb['ma50'].loc['2015-01-01':'2015-12-31'].plot(label='MA50')\n",
    "fb['Close'].loc['2015-01-01':'2015-12-31'].plot(label='Close')\n",
    "plt.legend()\n",
    "plt.show()"
   ]
  },
  {
   "cell_type": "code",
   "execution_count": 29,
   "metadata": {
    "scrolled": false
   },
   "outputs": [
    {
     "data": {
      "image/png": "[encoded data removed]",
      "text/plain": [
       "<Figure size 720x576 with 1 Axes>"
      ]
     },
     "metadata": {
      "needs_background": "light"
     },
     "output_type": "display_data"
    }
   ],
   "source": [
    "# You can use .rolling() to calculate any numbers of days' Moving Average. This is your turn to calculate \"60 days\"\n",
    "# moving average of Microsoft, rename it as \"ma60\". And follow the codes above in plotting a graph\n",
    "\n",
    "ms['ma60'] = ms['Close'].rolling(60).mean()\n",
    "\n",
    "#plot the moving average\n",
    "plt.figure(figsize=(10, 8))\n",
    "ms['ma60'].loc['2015-01-01':'2015-12-31'].plot(label='MA60')\n",
    "ms['Close'].loc['2015-01-01':'2015-12-31'].plot(label='Close')\n",
    "plt.legend()\n",
    "plt.show()"
   ]
  },
  {
   "cell_type": "code",
   "execution_count": 30,
   "metadata": {},
   "outputs": [],
   "source": [
    "### 1. Munging the stock data and add two columns - MA10 and MA50"
   ]
  },
  {
   "cell_type": "code",
   "execution_count": 31,
   "metadata": {},
   "outputs": [
    {
     "data": {
      "text/html": [
       "<div>\n",
       "<style scoped>\n",
       "    .dataframe tbody tr th:only-of-type {\n",
       "        vertical-align: middle;\n",
       "    }\n",
       "\n",
       "    .dataframe tbody tr th {\n",
       "        vertical-align: top;\n",
       "    }\n",
       "\n",
       "    .dataframe thead th {\n",
       "        text-align: right;\n",
       "    }\n",
       "</style>\n",
       "<table border=\"1\" class=\"dataframe\">\n",
       "  <thead>\n",
       "    <tr style=\"text-align: right;\">\n",
       "      <th></th>\n",
       "      <th>Open</th>\n",
       "      <th>High</th>\n",
       "      <th>Low</th>\n",
       "      <th>Close</th>\n",
       "      <th>Adj Close</th>\n",
       "      <th>Volume</th>\n",
       "      <th>MA10</th>\n",
       "      <th>MA50</th>\n",
       "    </tr>\n",
       "    <tr>\n",
       "      <th>Date</th>\n",
       "      <th></th>\n",
       "      <th></th>\n",
       "      <th></th>\n",
       "      <th></th>\n",
       "      <th></th>\n",
       "      <th></th>\n",
       "      <th></th>\n",
       "      <th></th>\n",
       "    </tr>\n",
       "  </thead>\n",
       "  <tbody>\n",
       "    <tr>\n",
       "      <th>2015-03-13</th>\n",
       "      <td>22.559999</td>\n",
       "      <td>22.760000</td>\n",
       "      <td>22.250000</td>\n",
       "      <td>22.700001</td>\n",
       "      <td>22.116024</td>\n",
       "      <td>8982200</td>\n",
       "      <td>22.648</td>\n",
       "      <td>21.0174</td>\n",
       "    </tr>\n",
       "    <tr>\n",
       "      <th>2015-03-16</th>\n",
       "      <td>22.879999</td>\n",
       "      <td>23.110001</td>\n",
       "      <td>22.730000</td>\n",
       "      <td>22.969999</td>\n",
       "      <td>22.379078</td>\n",
       "      <td>5923900</td>\n",
       "      <td>22.685</td>\n",
       "      <td>21.0758</td>\n",
       "    </tr>\n",
       "    <tr>\n",
       "      <th>2015-03-17</th>\n",
       "      <td>22.920000</td>\n",
       "      <td>23.260000</td>\n",
       "      <td>22.760000</td>\n",
       "      <td>23.250000</td>\n",
       "      <td>22.651876</td>\n",
       "      <td>7497500</td>\n",
       "      <td>22.792</td>\n",
       "      <td>21.1382</td>\n",
       "    </tr>\n",
       "    <tr>\n",
       "      <th>2015-03-18</th>\n",
       "      <td>23.250000</td>\n",
       "      <td>23.370001</td>\n",
       "      <td>22.660000</td>\n",
       "      <td>22.870001</td>\n",
       "      <td>22.281652</td>\n",
       "      <td>10337600</td>\n",
       "      <td>22.836</td>\n",
       "      <td>21.1998</td>\n",
       "    </tr>\n",
       "    <tr>\n",
       "      <th>2015-03-19</th>\n",
       "      <td>22.950001</td>\n",
       "      <td>23.299999</td>\n",
       "      <td>22.780001</td>\n",
       "      <td>23.219999</td>\n",
       "      <td>22.622650</td>\n",
       "      <td>7768900</td>\n",
       "      <td>22.872</td>\n",
       "      <td>21.2804</td>\n",
       "    </tr>\n",
       "  </tbody>\n",
       "</table>\n",
       "</div>"
      ],
      "text/plain": [
       "                 Open       High        Low      Close  Adj Close    Volume  \\\n",
       "Date                                                                          \n",
       "2015-03-13  22.559999  22.760000  22.250000  22.700001  22.116024   8982200   \n",
       "2015-03-16  22.879999  23.110001  22.730000  22.969999  22.379078   5923900   \n",
       "2015-03-17  22.920000  23.260000  22.760000  23.250000  22.651876   7497500   \n",
       "2015-03-18  23.250000  23.370001  22.660000  22.870001  22.281652  10337600   \n",
       "2015-03-19  22.950001  23.299999  22.780001  23.219999  22.622650   7768900   \n",
       "\n",
       "              MA10     MA50  \n",
       "Date                         \n",
       "2015-03-13  22.648  21.0174  \n",
       "2015-03-16  22.685  21.0758  \n",
       "2015-03-17  22.792  21.1382  \n",
       "2015-03-18  22.836  21.1998  \n",
       "2015-03-19  22.872  21.2804  "
      ]
     },
     "execution_count": 31,
     "metadata": {},
     "output_type": "execute_result"
    }
   ],
   "source": [
    "fb = pd.read_csv('facebook.csv',index_col = 0)\n",
    "fb['MA10'] = fb['Close'].rolling(10).mean()\n",
    "fb['MA50'] = fb['Close'].rolling(50).mean()\n",
    "fb = fb.dropna()\n",
    "fb.head()"
   ]
  },
  {
   "cell_type": "code",
   "execution_count": 32,
   "metadata": {},
   "outputs": [],
   "source": [
    "## 2. Add \"Shares\" column to make decisions base on the strategy¶"
   ]
  },
  {
   "cell_type": "code",
   "execution_count": 33,
   "metadata": {},
   "outputs": [],
   "source": [
    "#Add a new column \"Shares\", if MA10>MA50, denote as 1 (long one share of stock), otherwise, denote as 0 (do nothing)\n",
    "\n",
    "fb['Shares'] = [1 if fb.loc[ei, 'MA10']>fb.loc[ei, 'MA50'] else 0 for ei in fb.index]"
   ]
  },
  {
   "cell_type": "code",
   "execution_count": 34,
   "metadata": {},
   "outputs": [
    {
     "data": {
      "text/plain": [
       "<matplotlib.lines.Line2D at 0x7ff346f7f8d0>"
      ]
     },
     "execution_count": 34,
     "metadata": {},
     "output_type": "execute_result"
    },
    {
     "data": {
      "image/png": "[encoded data removed]",
      "text/plain": [
       "<Figure size 432x288 with 1 Axes>"
      ]
     },
     "metadata": {
      "needs_background": "light"
     },
     "output_type": "display_data"
    }
   ],
   "source": [
    "#Add a new column \"Profit\" using List Comprehension, for any rows in fb, if Shares=1, the profit is calculated as the close price of \n",
    "#tomorrow - the close price of today. Otherwise the profit is 0.\n",
    "\n",
    "#Plot a graph to show the Profit/Loss\n",
    "\n",
    "fb['Close1'] = fb['Close'].shift(-1)\n",
    "fb['Profit'] = [fb.loc[ei, 'Close1'] - fb.loc[ei, 'Close'] if fb.loc[ei, 'Shares']==1 else 0 for ei in fb.index]\n",
    "fb['Profit'].plot()\n",
    "plt.axhline(y=0, color='red')"
   ]
  },
  {
   "cell_type": "code",
   "execution_count": 35,
   "metadata": {},
   "outputs": [],
   "source": [
    "### 3. Use .cumsum() to display our model's performance if we follow the strategy"
   ]
  },
  {
   "cell_type": "code",
   "execution_count": 36,
   "metadata": {},
   "outputs": [
    {
     "data": {
      "text/html": [
       "<div>\n",
       "<style scoped>\n",
       "    .dataframe tbody tr th:only-of-type {\n",
       "        vertical-align: middle;\n",
       "    }\n",
       "\n",
       "    .dataframe tbody tr th {\n",
       "        vertical-align: top;\n",
       "    }\n",
       "\n",
       "    .dataframe thead th {\n",
       "        text-align: right;\n",
       "    }\n",
       "</style>\n",
       "<table border=\"1\" class=\"dataframe\">\n",
       "  <thead>\n",
       "    <tr style=\"text-align: right;\">\n",
       "      <th></th>\n",
       "      <th>Open</th>\n",
       "      <th>High</th>\n",
       "      <th>Low</th>\n",
       "      <th>Close</th>\n",
       "      <th>Adj Close</th>\n",
       "      <th>Volume</th>\n",
       "      <th>MA10</th>\n",
       "      <th>MA50</th>\n",
       "      <th>Shares</th>\n",
       "      <th>Close1</th>\n",
       "      <th>Profit</th>\n",
       "      <th>wealth</th>\n",
       "    </tr>\n",
       "    <tr>\n",
       "      <th>Date</th>\n",
       "      <th></th>\n",
       "      <th></th>\n",
       "      <th></th>\n",
       "      <th></th>\n",
       "      <th></th>\n",
       "      <th></th>\n",
       "      <th></th>\n",
       "      <th></th>\n",
       "      <th></th>\n",
       "      <th></th>\n",
       "      <th></th>\n",
       "      <th></th>\n",
       "    </tr>\n",
       "  </thead>\n",
       "  <tbody>\n",
       "    <tr>\n",
       "      <th>2018-01-30</th>\n",
       "      <td>241.110001</td>\n",
       "      <td>246.419998</td>\n",
       "      <td>238.410004</td>\n",
       "      <td>242.720001</td>\n",
       "      <td>242.720001</td>\n",
       "      <td>14270800</td>\n",
       "      <td>235.692003</td>\n",
       "      <td>210.030001</td>\n",
       "      <td>1</td>\n",
       "      <td>245.800003</td>\n",
       "      <td>3.080002</td>\n",
       "      <td>177.820011</td>\n",
       "    </tr>\n",
       "    <tr>\n",
       "      <th>2018-01-31</th>\n",
       "      <td>245.770004</td>\n",
       "      <td>249.270004</td>\n",
       "      <td>244.449997</td>\n",
       "      <td>245.800003</td>\n",
       "      <td>245.800003</td>\n",
       "      <td>11964400</td>\n",
       "      <td>237.800003</td>\n",
       "      <td>210.713801</td>\n",
       "      <td>1</td>\n",
       "      <td>240.500000</td>\n",
       "      <td>-5.300003</td>\n",
       "      <td>172.520008</td>\n",
       "    </tr>\n",
       "    <tr>\n",
       "      <th>2018-02-01</th>\n",
       "      <td>238.520004</td>\n",
       "      <td>246.899994</td>\n",
       "      <td>238.059998</td>\n",
       "      <td>240.500000</td>\n",
       "      <td>240.500000</td>\n",
       "      <td>12980600</td>\n",
       "      <td>239.406003</td>\n",
       "      <td>211.296601</td>\n",
       "      <td>1</td>\n",
       "      <td>233.520004</td>\n",
       "      <td>-6.979996</td>\n",
       "      <td>165.540012</td>\n",
       "    </tr>\n",
       "    <tr>\n",
       "      <th>2018-02-02</th>\n",
       "      <td>237.000000</td>\n",
       "      <td>237.970001</td>\n",
       "      <td>231.169998</td>\n",
       "      <td>233.520004</td>\n",
       "      <td>233.520004</td>\n",
       "      <td>17961600</td>\n",
       "      <td>239.747003</td>\n",
       "      <td>211.685401</td>\n",
       "      <td>1</td>\n",
       "      <td>213.699997</td>\n",
       "      <td>-19.820007</td>\n",
       "      <td>145.720005</td>\n",
       "    </tr>\n",
       "    <tr>\n",
       "      <th>2018-02-05</th>\n",
       "      <td>227.000000</td>\n",
       "      <td>233.229996</td>\n",
       "      <td>205.000000</td>\n",
       "      <td>213.699997</td>\n",
       "      <td>213.699997</td>\n",
       "      <td>28869000</td>\n",
       "      <td>237.748003</td>\n",
       "      <td>211.638401</td>\n",
       "      <td>1</td>\n",
       "      <td>NaN</td>\n",
       "      <td>NaN</td>\n",
       "      <td>NaN</td>\n",
       "    </tr>\n",
       "  </tbody>\n",
       "</table>\n",
       "</div>"
      ],
      "text/plain": [
       "                  Open        High         Low       Close   Adj Close  \\\n",
       "Date                                                                     \n",
       "2018-01-30  241.110001  246.419998  238.410004  242.720001  242.720001   \n",
       "2018-01-31  245.770004  249.270004  244.449997  245.800003  245.800003   \n",
       "2018-02-01  238.520004  246.899994  238.059998  240.500000  240.500000   \n",
       "2018-02-02  237.000000  237.970001  231.169998  233.520004  233.520004   \n",
       "2018-02-05  227.000000  233.229996  205.000000  213.699997  213.699997   \n",
       "\n",
       "              Volume        MA10        MA50  Shares      Close1     Profit  \\\n",
       "Date                                                                          \n",
       "2018-01-30  14270800  235.692003  210.030001       1  245.800003   3.080002   \n",
       "2018-01-31  11964400  237.800003  210.713801       1  240.500000  -5.300003   \n",
       "2018-02-01  12980600  239.406003  211.296601       1  233.520004  -6.979996   \n",
       "2018-02-02  17961600  239.747003  211.685401       1  213.699997 -19.820007   \n",
       "2018-02-05  28869000  237.748003  211.638401       1         NaN        NaN   \n",
       "\n",
       "                wealth  \n",
       "Date                    \n",
       "2018-01-30  177.820011  \n",
       "2018-01-31  172.520008  \n",
       "2018-02-01  165.540012  \n",
       "2018-02-02  145.720005  \n",
       "2018-02-05         NaN  "
      ]
     },
     "execution_count": 36,
     "metadata": {},
     "output_type": "execute_result"
    }
   ],
   "source": [
    "#Use .cumsum() to calculate the accumulated wealth over the period\n",
    "\n",
    "fb['wealth'] = fb['Profit'].cumsum()\n",
    "fb.tail()"
   ]
  },
  {
   "cell_type": "code",
   "execution_count": 37,
   "metadata": {},
   "outputs": [
    {
     "data": {
      "text/plain": [
       "Text(0.5, 1.0, 'Total money you win is 145.72000500000001')"
      ]
     },
     "execution_count": 37,
     "metadata": {},
     "output_type": "execute_result"
    },
    {
     "data": {
      "image/png": "[encoded data removed]",
      "text/plain": [
       "<Figure size 432x288 with 1 Axes>"
      ]
     },
     "metadata": {
      "needs_background": "light"
     },
     "output_type": "display_data"
    }
   ],
   "source": [
    "#plot the wealth to show the growth of profit over the period\n",
    "\n",
    "fb['wealth'].plot()\n",
    "plt.title('Total money you win is {}'.format(fb.loc[fb.index[-2], 'wealth']))"
   ]
  }
 ],
 "metadata": {
  "kernelspec": {
   "display_name": "Python 3",
   "language": "python",
   "name": "python3"
  },
  "language_info": {
   "codemirror_mode": {
    "name": "ipython",
    "version": 3
   },
   "file_extension": ".py",
   "mimetype": "text/x-python",
   "name": "python",
   "nbconvert_exporter": "python",
   "pygments_lexer": "ipython3",
   "version": "3.7.6"
  }
 },
 "nbformat": 4,
 "nbformat_minor": 2
}
